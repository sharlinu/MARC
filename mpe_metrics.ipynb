{
 "cells": [
  {
   "cell_type": "code",
   "execution_count": null,
   "metadata": {
    "collapsed": true
   },
   "outputs": [],
   "source": [
    "import json\n",
    "import numpy as np"
   ]
  },
  {
   "cell_type": "code",
   "execution_count": null,
   "outputs": [],
   "source": [
    "with open('rmac/experiments/MARC/GraphMPE/2024-05-22_MAPE-3p_red_rew0.25_std_seed4001/evaluate/collected_data.json', 'r') as file:\n",
    "    m_data = json.load(file)\n",
    "\n",
    "len(m_data)"
   ],
   "metadata": {
    "collapsed": false
   }
  },
  {
   "cell_type": "code",
   "execution_count": null,
   "outputs": [],
   "source": [
    "m_agent_colls = []\n",
    "m_obst_colls = []\n",
    "m_time_to_goal = []\n",
    "m_min_time = []\n",
    "m_success = []\n",
    "for k,val in m_data.items():\n",
    "    for v in val['l_infos'][-1]:\n",
    "        m_success.append(1 if v['individual_reward']==5 else 0 )\n",
    "        m_agent_colls.append(v['Num_agent_collisions'])\n",
    "        m_obst_colls.append(v['Num_obst_collisions'])\n",
    "        m_time_to_goal.append(v['Time_req_to_goal'])\n",
    "        m_min_time.append(v['Min_time_to_goal'])\n",
    "\n",
    "m_time_ratio = [t/m for t,m in zip(m_time_to_goal, m_min_time)]"
   ],
   "metadata": {
    "collapsed": false
   }
  },
  {
   "cell_type": "code",
   "execution_count": null,
   "outputs": [],
   "source": [
    "e_agent_colls = []\n",
    "e_obst_colls = []\n",
    "e_time_to_goal = []\n",
    "e_min_time = []\n",
    "e_success = []\n",
    "for k,val in e_data.items():\n",
    "    for v in val['l_infos'][-1]:\n",
    "        e_success.append(1 if v['individual_reward']==5 else 0 )\n",
    "        e_agent_colls.append(v['Num_agent_collisions'])\n",
    "        e_obst_colls.append(v['Num_obst_collisions'])\n",
    "        e_time_to_goal.append(v['Time_req_to_goal'])\n",
    "        e_min_time.append(v['Min_time_to_goal'])\n",
    "\n",
    "e_time_ratio = [t/m for t,m in zip(e_time_to_goal, e_min_time)]"
   ],
   "metadata": {
    "collapsed": false
   }
  },
  {
   "cell_type": "code",
   "execution_count": null,
   "outputs": [],
   "source": [
    "from prettytable import PrettyTable\n",
    "metrics = [\n",
    "    {'Metric': 'Success', 'e_value': np.mean(e_success), 'm_value': np.mean(m_success) },\n",
    "    {\"Metric\": \"Time ratio\", 'e_value': np.mean(e_time_ratio), 'm_value': np.mean(m_time_ratio) },\n",
    "    {\"Metric\": \"obst_colls\", 'e_value': np.mean(e_obst_colls), 'm_value': np.mean(m_obst_colls) },\n",
    "    {\"Metric\": \"agent_colls\", 'e_value': np.mean(e_agent_colls), 'm_value': np.mean(m_agent_colls) },\n",
    "]\n",
    "\n",
    "# Create a PrettyTable object\n",
    "table = PrettyTable(float_format='.2f')\n",
    "\n",
    "# Define column names\n",
    "table.field_names = [\"Metric\", \"MAA2C Value\", \"MARC Value\"]\n",
    "\n",
    "# Add rows to the table\n",
    "for metric in metrics:\n",
    "    table.add_row([metric[\"Metric\"], metric[\"e_value\"], metric[\"m_value\"]])\n",
    "\n",
    "# Print the table\n",
    "print(table)"
   ],
   "metadata": {
    "collapsed": false
   }
  }
 ],
 "metadata": {
  "kernelspec": {
   "display_name": "Python 3",
   "language": "python",
   "name": "python3"
  },
  "language_info": {
   "codemirror_mode": {
    "name": "ipython",
    "version": 2
   },
   "file_extension": ".py",
   "mimetype": "text/x-python",
   "name": "python",
   "nbconvert_exporter": "python",
   "pygments_lexer": "ipython2",
   "version": "2.7.6"
  }
 },
 "nbformat": 4,
 "nbformat_minor": 0
}
